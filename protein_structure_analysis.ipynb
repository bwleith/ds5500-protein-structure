{
 "cells": [
  {
   "cell_type": "code",
   "execution_count": 1,
   "metadata": {},
   "outputs": [],
   "source": [
    "import pandas as pd \n",
    "import numpy as np \n",
    "from protein_data import ProteinData\n"
   ]
  },
  {
   "cell_type": "code",
   "execution_count": 4,
   "metadata": {},
   "outputs": [
    {
     "data": {
      "text/plain": [
       "(732, 300, 4)"
      ]
     },
     "execution_count": 4,
     "metadata": {},
     "output_type": "execute_result"
    }
   ],
   "source": [
    "# load data\n",
    "\n",
    "# updated data with 25% identity and 2.0 Angstrom cutoffs \n",
    "ss_2022_25_20 = pd.read_csv('2022-08-06-pdb-intersect-pisces_pc25_r2.0.csv')\n",
    "\n",
    "# updated data with 25% identity and 2.5 Angstrom cutoffs \n",
    "ss_2022_25_25 = pd.read_csv('2022-08-06-pdb-intersect-pisces_pc25_r2.5.csv')\n",
    "\n",
    "# updated data with 30% identity and 2.5 Angstrom cutoffs \n",
    "ss_2022_30_25 = pd.read_csv('2022-08-06-pdb-intersect-pisces_pc30_r2.5.csv')\n",
    "\n",
    "sst3_data = ProteinData(df = ss_2022_25_20, target = 'sst3', n = 3, maxlen = 300)\n",
    "sst8_data = ProteinData(df = ss_2022_25_20, target = 'sst8', n = 3, maxlen = 300)\n",
    "\n"
   ]
  },
  {
   "cell_type": "code",
   "execution_count": 6,
   "metadata": {},
   "outputs": [
    {
     "name": "stdout",
     "output_type": "stream",
     "text": [
      "Model: \"sequential_1\"\n",
      "_________________________________________________________________\n",
      " Layer (type)                Output Shape              Param #   \n",
      "=================================================================\n",
      " embedding_1 (Embedding)     (None, 300, 256)          2168576   \n",
      "                                                                 \n",
      " bidirectional_1 (Bidirectio  (None, 300, 256)         394240    \n",
      " nal)                                                            \n",
      "                                                                 \n",
      " time_distributed_1 (TimeDis  (None, 300, 4)           1028      \n",
      " tributed)                                                       \n",
      "                                                                 \n",
      "=================================================================\n",
      "Total params: 2,563,844\n",
      "Trainable params: 2,563,844\n",
      "Non-trainable params: 0\n",
      "_________________________________________________________________\n"
     ]
    }
   ],
   "source": [
    "# Build the model for predicting the SST3 sequence\n",
    "import tensorflow as tf\n",
    "from tensorflow.keras import Sequential\n",
    "from tensorflow.keras.models import Model\n",
    "from tensorflow.keras.utils import plot_model\n",
    "from tensorflow.keras.layers import LSTM, Embedding, Dense, TimeDistributed, Bidirectional, Dropout\n",
    "\n",
    "\n",
    "model = Sequential([\n",
    "    # the embedding layer converts the input sequences into higher-dimensional embeddings\n",
    "    # that will be fed to the LSTM layer \n",
    "    Embedding(input_dim = sst3_data.n_words, output_dim = 256, input_length = sst3_data.maxlen),\n",
    "    # the LSTM layer processes the sequences, retaining relevant information about the\n",
    "    # context of each input that it processes from both earlier and later in the sequence \n",
    "    Bidirectional(LSTM(units = 128, return_sequences = True)),\n",
    "    # this layer converts the output from the LSTM layer into the output sequence\n",
    "    TimeDistributed(Dense(sst3_data.n_ssts, activation = 'softmax'))])\n",
    "\n",
    "model.summary()\n"
   ]
  },
  {
   "cell_type": "code",
   "execution_count": 7,
   "metadata": {},
   "outputs": [
    {
     "name": "stdout",
     "output_type": "stream",
     "text": [
      "Epoch 1/10\n",
      "46/46 [==============================] - 46s 968ms/step - loss: 0.7581 - accuracy: 0.6438 - q3_acc: 0.5127 - val_loss: 0.6075 - val_accuracy: 0.7363 - val_q3_acc: 0.6261\n",
      "Epoch 2/10\n",
      "46/46 [==============================] - 45s 985ms/step - loss: 0.5882 - accuracy: 0.7396 - q3_acc: 0.6370 - val_loss: 0.5748 - val_accuracy: 0.7430 - val_q3_acc: 0.6356\n",
      "Epoch 3/10\n",
      "46/46 [==============================] - 44s 956ms/step - loss: 0.5541 - accuracy: 0.7564 - q3_acc: 0.6604 - val_loss: 0.5567 - val_accuracy: 0.7542 - val_q3_acc: 0.6514\n",
      "Epoch 4/10\n",
      "46/46 [==============================] - 43s 942ms/step - loss: 0.5343 - accuracy: 0.7668 - q3_acc: 0.6749 - val_loss: 0.5477 - val_accuracy: 0.7593 - val_q3_acc: 0.6586\n",
      "Epoch 5/10\n",
      "46/46 [==============================] - ETA: 0s - loss: 0.5208 - accuracy: 0.7735 - q3_acc: 0.6843"
     ]
    },
    {
     "ename": "KeyboardInterrupt",
     "evalue": "",
     "output_type": "error",
     "traceback": [
      "\u001b[0;31m---------------------------------------------------------------------------\u001b[0m",
      "\u001b[0;31mKeyboardInterrupt\u001b[0m                         Traceback (most recent call last)",
      "\u001b[1;32m/Users/williamleith/Documents/ds5500-protein-structure/protein_structure_analysis.ipynb Cell 4\u001b[0m in \u001b[0;36m<cell line: 15>\u001b[0;34m()\u001b[0m\n\u001b[1;32m     <a href='vscode-notebook-cell:/Users/williamleith/Documents/ds5500-protein-structure/protein_structure_analysis.ipynb#ch0000005?line=11'>12</a>\u001b[0m     \u001b[39mreturn\u001b[39;00m K\u001b[39m.\u001b[39mcast(K\u001b[39m.\u001b[39mequal(tf\u001b[39m.\u001b[39mboolean_mask(y, mask), tf\u001b[39m.\u001b[39mboolean_mask(y_, mask)), K\u001b[39m.\u001b[39mfloatx())\n\u001b[1;32m     <a href='vscode-notebook-cell:/Users/williamleith/Documents/ds5500-protein-structure/protein_structure_analysis.ipynb#ch0000005?line=13'>14</a>\u001b[0m model\u001b[39m.\u001b[39mcompile(optimizer \u001b[39m=\u001b[39m \u001b[39m\"\u001b[39m\u001b[39mrmsprop\u001b[39m\u001b[39m\"\u001b[39m, loss \u001b[39m=\u001b[39m \u001b[39m\"\u001b[39m\u001b[39mcategorical_crossentropy\u001b[39m\u001b[39m\"\u001b[39m, metrics \u001b[39m=\u001b[39m [\u001b[39m\"\u001b[39m\u001b[39maccuracy\u001b[39m\u001b[39m\"\u001b[39m, q3_acc])\n\u001b[0;32m---> <a href='vscode-notebook-cell:/Users/williamleith/Documents/ds5500-protein-structure/protein_structure_analysis.ipynb#ch0000005?line=14'>15</a>\u001b[0m model\u001b[39m.\u001b[39;49mfit(sst3_data\u001b[39m.\u001b[39;49mtrain_sequences, \n\u001b[1;32m     <a href='vscode-notebook-cell:/Users/williamleith/Documents/ds5500-protein-structure/protein_structure_analysis.ipynb#ch0000005?line=15'>16</a>\u001b[0m           sst3_data\u001b[39m.\u001b[39;49my_train_sequences, \n\u001b[1;32m     <a href='vscode-notebook-cell:/Users/williamleith/Documents/ds5500-protein-structure/protein_structure_analysis.ipynb#ch0000005?line=16'>17</a>\u001b[0m           batch_size \u001b[39m=\u001b[39;49m \u001b[39m128\u001b[39;49m, \n\u001b[1;32m     <a href='vscode-notebook-cell:/Users/williamleith/Documents/ds5500-protein-structure/protein_structure_analysis.ipynb#ch0000005?line=17'>18</a>\u001b[0m           epochs \u001b[39m=\u001b[39;49m \u001b[39m10\u001b[39;49m, \n\u001b[1;32m     <a href='vscode-notebook-cell:/Users/williamleith/Documents/ds5500-protein-structure/protein_structure_analysis.ipynb#ch0000005?line=18'>19</a>\u001b[0m           validation_data \u001b[39m=\u001b[39;49m (sst3_data\u001b[39m.\u001b[39;49mvalid_sequences, \n\u001b[1;32m     <a href='vscode-notebook-cell:/Users/williamleith/Documents/ds5500-protein-structure/protein_structure_analysis.ipynb#ch0000005?line=19'>20</a>\u001b[0m                              sst3_data\u001b[39m.\u001b[39;49my_valid_sequences), \n\u001b[1;32m     <a href='vscode-notebook-cell:/Users/williamleith/Documents/ds5500-protein-structure/protein_structure_analysis.ipynb#ch0000005?line=20'>21</a>\u001b[0m           verbose \u001b[39m=\u001b[39;49m \u001b[39m1\u001b[39;49m)\n",
      "File \u001b[0;32m/Library/Frameworks/Python.framework/Versions/3.10/lib/python3.10/site-packages/keras/utils/traceback_utils.py:65\u001b[0m, in \u001b[0;36mfilter_traceback.<locals>.error_handler\u001b[0;34m(*args, **kwargs)\u001b[0m\n\u001b[1;32m     63\u001b[0m filtered_tb \u001b[39m=\u001b[39m \u001b[39mNone\u001b[39;00m\n\u001b[1;32m     64\u001b[0m \u001b[39mtry\u001b[39;00m:\n\u001b[0;32m---> 65\u001b[0m     \u001b[39mreturn\u001b[39;00m fn(\u001b[39m*\u001b[39;49margs, \u001b[39m*\u001b[39;49m\u001b[39m*\u001b[39;49mkwargs)\n\u001b[1;32m     66\u001b[0m \u001b[39mexcept\u001b[39;00m \u001b[39mException\u001b[39;00m \u001b[39mas\u001b[39;00m e:\n\u001b[1;32m     67\u001b[0m     filtered_tb \u001b[39m=\u001b[39m _process_traceback_frames(e\u001b[39m.\u001b[39m__traceback__)\n",
      "File \u001b[0;32m/Library/Frameworks/Python.framework/Versions/3.10/lib/python3.10/site-packages/keras/engine/training.py:1606\u001b[0m, in \u001b[0;36mModel.fit\u001b[0;34m(self, x, y, batch_size, epochs, verbose, callbacks, validation_split, validation_data, shuffle, class_weight, sample_weight, initial_epoch, steps_per_epoch, validation_steps, validation_batch_size, validation_freq, max_queue_size, workers, use_multiprocessing)\u001b[0m\n\u001b[1;32m   1591\u001b[0m \u001b[39mif\u001b[39;00m \u001b[39mgetattr\u001b[39m(\u001b[39mself\u001b[39m, \u001b[39m\"\u001b[39m\u001b[39m_eval_data_handler\u001b[39m\u001b[39m\"\u001b[39m, \u001b[39mNone\u001b[39;00m) \u001b[39mis\u001b[39;00m \u001b[39mNone\u001b[39;00m:\n\u001b[1;32m   1592\u001b[0m     \u001b[39mself\u001b[39m\u001b[39m.\u001b[39m_eval_data_handler \u001b[39m=\u001b[39m data_adapter\u001b[39m.\u001b[39mget_data_handler(\n\u001b[1;32m   1593\u001b[0m         x\u001b[39m=\u001b[39mval_x,\n\u001b[1;32m   1594\u001b[0m         y\u001b[39m=\u001b[39mval_y,\n\u001b[0;32m   (...)\u001b[0m\n\u001b[1;32m   1604\u001b[0m         steps_per_execution\u001b[39m=\u001b[39m\u001b[39mself\u001b[39m\u001b[39m.\u001b[39m_steps_per_execution,\n\u001b[1;32m   1605\u001b[0m     )\n\u001b[0;32m-> 1606\u001b[0m val_logs \u001b[39m=\u001b[39m \u001b[39mself\u001b[39;49m\u001b[39m.\u001b[39;49mevaluate(\n\u001b[1;32m   1607\u001b[0m     x\u001b[39m=\u001b[39;49mval_x,\n\u001b[1;32m   1608\u001b[0m     y\u001b[39m=\u001b[39;49mval_y,\n\u001b[1;32m   1609\u001b[0m     sample_weight\u001b[39m=\u001b[39;49mval_sample_weight,\n\u001b[1;32m   1610\u001b[0m     batch_size\u001b[39m=\u001b[39;49mvalidation_batch_size \u001b[39mor\u001b[39;49;00m batch_size,\n\u001b[1;32m   1611\u001b[0m     steps\u001b[39m=\u001b[39;49mvalidation_steps,\n\u001b[1;32m   1612\u001b[0m     callbacks\u001b[39m=\u001b[39;49mcallbacks,\n\u001b[1;32m   1613\u001b[0m     max_queue_size\u001b[39m=\u001b[39;49mmax_queue_size,\n\u001b[1;32m   1614\u001b[0m     workers\u001b[39m=\u001b[39;49mworkers,\n\u001b[1;32m   1615\u001b[0m     use_multiprocessing\u001b[39m=\u001b[39;49muse_multiprocessing,\n\u001b[1;32m   1616\u001b[0m     return_dict\u001b[39m=\u001b[39;49m\u001b[39mTrue\u001b[39;49;00m,\n\u001b[1;32m   1617\u001b[0m     _use_cached_eval_dataset\u001b[39m=\u001b[39;49m\u001b[39mTrue\u001b[39;49;00m,\n\u001b[1;32m   1618\u001b[0m )\n\u001b[1;32m   1619\u001b[0m val_logs \u001b[39m=\u001b[39m {\n\u001b[1;32m   1620\u001b[0m     \u001b[39m\"\u001b[39m\u001b[39mval_\u001b[39m\u001b[39m\"\u001b[39m \u001b[39m+\u001b[39m name: val \u001b[39mfor\u001b[39;00m name, val \u001b[39min\u001b[39;00m val_logs\u001b[39m.\u001b[39mitems()\n\u001b[1;32m   1621\u001b[0m }\n\u001b[1;32m   1622\u001b[0m epoch_logs\u001b[39m.\u001b[39mupdate(val_logs)\n",
      "File \u001b[0;32m/Library/Frameworks/Python.framework/Versions/3.10/lib/python3.10/site-packages/keras/utils/traceback_utils.py:65\u001b[0m, in \u001b[0;36mfilter_traceback.<locals>.error_handler\u001b[0;34m(*args, **kwargs)\u001b[0m\n\u001b[1;32m     63\u001b[0m filtered_tb \u001b[39m=\u001b[39m \u001b[39mNone\u001b[39;00m\n\u001b[1;32m     64\u001b[0m \u001b[39mtry\u001b[39;00m:\n\u001b[0;32m---> 65\u001b[0m     \u001b[39mreturn\u001b[39;00m fn(\u001b[39m*\u001b[39;49margs, \u001b[39m*\u001b[39;49m\u001b[39m*\u001b[39;49mkwargs)\n\u001b[1;32m     66\u001b[0m \u001b[39mexcept\u001b[39;00m \u001b[39mException\u001b[39;00m \u001b[39mas\u001b[39;00m e:\n\u001b[1;32m     67\u001b[0m     filtered_tb \u001b[39m=\u001b[39m _process_traceback_frames(e\u001b[39m.\u001b[39m__traceback__)\n",
      "File \u001b[0;32m/Library/Frameworks/Python.framework/Versions/3.10/lib/python3.10/site-packages/keras/engine/training.py:1947\u001b[0m, in \u001b[0;36mModel.evaluate\u001b[0;34m(self, x, y, batch_size, verbose, sample_weight, steps, callbacks, max_queue_size, workers, use_multiprocessing, return_dict, **kwargs)\u001b[0m\n\u001b[1;32m   1943\u001b[0m \u001b[39mwith\u001b[39;00m tf\u001b[39m.\u001b[39mprofiler\u001b[39m.\u001b[39mexperimental\u001b[39m.\u001b[39mTrace(\n\u001b[1;32m   1944\u001b[0m     \u001b[39m\"\u001b[39m\u001b[39mtest\u001b[39m\u001b[39m\"\u001b[39m, step_num\u001b[39m=\u001b[39mstep, _r\u001b[39m=\u001b[39m\u001b[39m1\u001b[39m\n\u001b[1;32m   1945\u001b[0m ):\n\u001b[1;32m   1946\u001b[0m     callbacks\u001b[39m.\u001b[39mon_test_batch_begin(step)\n\u001b[0;32m-> 1947\u001b[0m     tmp_logs \u001b[39m=\u001b[39m \u001b[39mself\u001b[39;49m\u001b[39m.\u001b[39;49mtest_function(iterator)\n\u001b[1;32m   1948\u001b[0m     \u001b[39mif\u001b[39;00m data_handler\u001b[39m.\u001b[39mshould_sync:\n\u001b[1;32m   1949\u001b[0m         context\u001b[39m.\u001b[39masync_wait()\n",
      "File \u001b[0;32m/Library/Frameworks/Python.framework/Versions/3.10/lib/python3.10/site-packages/tensorflow/python/util/traceback_utils.py:150\u001b[0m, in \u001b[0;36mfilter_traceback.<locals>.error_handler\u001b[0;34m(*args, **kwargs)\u001b[0m\n\u001b[1;32m    148\u001b[0m filtered_tb \u001b[39m=\u001b[39m \u001b[39mNone\u001b[39;00m\n\u001b[1;32m    149\u001b[0m \u001b[39mtry\u001b[39;00m:\n\u001b[0;32m--> 150\u001b[0m   \u001b[39mreturn\u001b[39;00m fn(\u001b[39m*\u001b[39;49margs, \u001b[39m*\u001b[39;49m\u001b[39m*\u001b[39;49mkwargs)\n\u001b[1;32m    151\u001b[0m \u001b[39mexcept\u001b[39;00m \u001b[39mException\u001b[39;00m \u001b[39mas\u001b[39;00m e:\n\u001b[1;32m    152\u001b[0m   filtered_tb \u001b[39m=\u001b[39m _process_traceback_frames(e\u001b[39m.\u001b[39m__traceback__)\n",
      "File \u001b[0;32m/Library/Frameworks/Python.framework/Versions/3.10/lib/python3.10/site-packages/tensorflow/python/eager/def_function.py:915\u001b[0m, in \u001b[0;36mFunction.__call__\u001b[0;34m(self, *args, **kwds)\u001b[0m\n\u001b[1;32m    912\u001b[0m compiler \u001b[39m=\u001b[39m \u001b[39m\"\u001b[39m\u001b[39mxla\u001b[39m\u001b[39m\"\u001b[39m \u001b[39mif\u001b[39;00m \u001b[39mself\u001b[39m\u001b[39m.\u001b[39m_jit_compile \u001b[39melse\u001b[39;00m \u001b[39m\"\u001b[39m\u001b[39mnonXla\u001b[39m\u001b[39m\"\u001b[39m\n\u001b[1;32m    914\u001b[0m \u001b[39mwith\u001b[39;00m OptionalXlaContext(\u001b[39mself\u001b[39m\u001b[39m.\u001b[39m_jit_compile):\n\u001b[0;32m--> 915\u001b[0m   result \u001b[39m=\u001b[39m \u001b[39mself\u001b[39;49m\u001b[39m.\u001b[39;49m_call(\u001b[39m*\u001b[39;49margs, \u001b[39m*\u001b[39;49m\u001b[39m*\u001b[39;49mkwds)\n\u001b[1;32m    917\u001b[0m new_tracing_count \u001b[39m=\u001b[39m \u001b[39mself\u001b[39m\u001b[39m.\u001b[39mexperimental_get_tracing_count()\n\u001b[1;32m    918\u001b[0m without_tracing \u001b[39m=\u001b[39m (tracing_count \u001b[39m==\u001b[39m new_tracing_count)\n",
      "File \u001b[0;32m/Library/Frameworks/Python.framework/Versions/3.10/lib/python3.10/site-packages/tensorflow/python/eager/def_function.py:954\u001b[0m, in \u001b[0;36mFunction._call\u001b[0;34m(self, *args, **kwds)\u001b[0m\n\u001b[1;32m    951\u001b[0m \u001b[39mself\u001b[39m\u001b[39m.\u001b[39m_lock\u001b[39m.\u001b[39mrelease()\n\u001b[1;32m    952\u001b[0m \u001b[39m# In this case we have not created variables on the first call. So we can\u001b[39;00m\n\u001b[1;32m    953\u001b[0m \u001b[39m# run the first trace but we should fail if variables are created.\u001b[39;00m\n\u001b[0;32m--> 954\u001b[0m results \u001b[39m=\u001b[39m \u001b[39mself\u001b[39;49m\u001b[39m.\u001b[39;49m_stateful_fn(\u001b[39m*\u001b[39;49margs, \u001b[39m*\u001b[39;49m\u001b[39m*\u001b[39;49mkwds)\n\u001b[1;32m    955\u001b[0m \u001b[39mif\u001b[39;00m \u001b[39mself\u001b[39m\u001b[39m.\u001b[39m_created_variables \u001b[39mand\u001b[39;00m \u001b[39mnot\u001b[39;00m ALLOW_DYNAMIC_VARIABLE_CREATION:\n\u001b[1;32m    956\u001b[0m   \u001b[39mraise\u001b[39;00m \u001b[39mValueError\u001b[39;00m(\u001b[39m\"\u001b[39m\u001b[39mCreating variables on a non-first call to a function\u001b[39m\u001b[39m\"\u001b[39m\n\u001b[1;32m    957\u001b[0m                    \u001b[39m\"\u001b[39m\u001b[39m decorated with tf.function.\u001b[39m\u001b[39m\"\u001b[39m)\n",
      "File \u001b[0;32m/Library/Frameworks/Python.framework/Versions/3.10/lib/python3.10/site-packages/tensorflow/python/eager/function.py:2496\u001b[0m, in \u001b[0;36mFunction.__call__\u001b[0;34m(self, *args, **kwargs)\u001b[0m\n\u001b[1;32m   2493\u001b[0m \u001b[39mwith\u001b[39;00m \u001b[39mself\u001b[39m\u001b[39m.\u001b[39m_lock:\n\u001b[1;32m   2494\u001b[0m   (graph_function,\n\u001b[1;32m   2495\u001b[0m    filtered_flat_args) \u001b[39m=\u001b[39m \u001b[39mself\u001b[39m\u001b[39m.\u001b[39m_maybe_define_function(args, kwargs)\n\u001b[0;32m-> 2496\u001b[0m \u001b[39mreturn\u001b[39;00m graph_function\u001b[39m.\u001b[39;49m_call_flat(\n\u001b[1;32m   2497\u001b[0m     filtered_flat_args, captured_inputs\u001b[39m=\u001b[39;49mgraph_function\u001b[39m.\u001b[39;49mcaptured_inputs)\n",
      "File \u001b[0;32m/Library/Frameworks/Python.framework/Versions/3.10/lib/python3.10/site-packages/tensorflow/python/eager/function.py:1862\u001b[0m, in \u001b[0;36mConcreteFunction._call_flat\u001b[0;34m(self, args, captured_inputs, cancellation_manager)\u001b[0m\n\u001b[1;32m   1858\u001b[0m possible_gradient_type \u001b[39m=\u001b[39m gradients_util\u001b[39m.\u001b[39mPossibleTapeGradientTypes(args)\n\u001b[1;32m   1859\u001b[0m \u001b[39mif\u001b[39;00m (possible_gradient_type \u001b[39m==\u001b[39m gradients_util\u001b[39m.\u001b[39mPOSSIBLE_GRADIENT_TYPES_NONE\n\u001b[1;32m   1860\u001b[0m     \u001b[39mand\u001b[39;00m executing_eagerly):\n\u001b[1;32m   1861\u001b[0m   \u001b[39m# No tape is watching; skip to running the function.\u001b[39;00m\n\u001b[0;32m-> 1862\u001b[0m   \u001b[39mreturn\u001b[39;00m \u001b[39mself\u001b[39m\u001b[39m.\u001b[39m_build_call_outputs(\u001b[39mself\u001b[39;49m\u001b[39m.\u001b[39;49m_inference_function\u001b[39m.\u001b[39;49mcall(\n\u001b[1;32m   1863\u001b[0m       ctx, args, cancellation_manager\u001b[39m=\u001b[39;49mcancellation_manager))\n\u001b[1;32m   1864\u001b[0m forward_backward \u001b[39m=\u001b[39m \u001b[39mself\u001b[39m\u001b[39m.\u001b[39m_select_forward_and_backward_functions(\n\u001b[1;32m   1865\u001b[0m     args,\n\u001b[1;32m   1866\u001b[0m     possible_gradient_type,\n\u001b[1;32m   1867\u001b[0m     executing_eagerly)\n\u001b[1;32m   1868\u001b[0m forward_function, args_with_tangents \u001b[39m=\u001b[39m forward_backward\u001b[39m.\u001b[39mforward()\n",
      "File \u001b[0;32m/Library/Frameworks/Python.framework/Versions/3.10/lib/python3.10/site-packages/tensorflow/python/eager/function.py:499\u001b[0m, in \u001b[0;36m_EagerDefinedFunction.call\u001b[0;34m(self, ctx, args, cancellation_manager)\u001b[0m\n\u001b[1;32m    497\u001b[0m \u001b[39mwith\u001b[39;00m _InterpolateFunctionError(\u001b[39mself\u001b[39m):\n\u001b[1;32m    498\u001b[0m   \u001b[39mif\u001b[39;00m cancellation_manager \u001b[39mis\u001b[39;00m \u001b[39mNone\u001b[39;00m:\n\u001b[0;32m--> 499\u001b[0m     outputs \u001b[39m=\u001b[39m execute\u001b[39m.\u001b[39;49mexecute(\n\u001b[1;32m    500\u001b[0m         \u001b[39mstr\u001b[39;49m(\u001b[39mself\u001b[39;49m\u001b[39m.\u001b[39;49msignature\u001b[39m.\u001b[39;49mname),\n\u001b[1;32m    501\u001b[0m         num_outputs\u001b[39m=\u001b[39;49m\u001b[39mself\u001b[39;49m\u001b[39m.\u001b[39;49m_num_outputs,\n\u001b[1;32m    502\u001b[0m         inputs\u001b[39m=\u001b[39;49margs,\n\u001b[1;32m    503\u001b[0m         attrs\u001b[39m=\u001b[39;49mattrs,\n\u001b[1;32m    504\u001b[0m         ctx\u001b[39m=\u001b[39;49mctx)\n\u001b[1;32m    505\u001b[0m   \u001b[39melse\u001b[39;00m:\n\u001b[1;32m    506\u001b[0m     outputs \u001b[39m=\u001b[39m execute\u001b[39m.\u001b[39mexecute_with_cancellation(\n\u001b[1;32m    507\u001b[0m         \u001b[39mstr\u001b[39m(\u001b[39mself\u001b[39m\u001b[39m.\u001b[39msignature\u001b[39m.\u001b[39mname),\n\u001b[1;32m    508\u001b[0m         num_outputs\u001b[39m=\u001b[39m\u001b[39mself\u001b[39m\u001b[39m.\u001b[39m_num_outputs,\n\u001b[0;32m   (...)\u001b[0m\n\u001b[1;32m    511\u001b[0m         ctx\u001b[39m=\u001b[39mctx,\n\u001b[1;32m    512\u001b[0m         cancellation_manager\u001b[39m=\u001b[39mcancellation_manager)\n",
      "File \u001b[0;32m/Library/Frameworks/Python.framework/Versions/3.10/lib/python3.10/site-packages/tensorflow/python/eager/execute.py:54\u001b[0m, in \u001b[0;36mquick_execute\u001b[0;34m(op_name, num_outputs, inputs, attrs, ctx, name)\u001b[0m\n\u001b[1;32m     52\u001b[0m \u001b[39mtry\u001b[39;00m:\n\u001b[1;32m     53\u001b[0m   ctx\u001b[39m.\u001b[39mensure_initialized()\n\u001b[0;32m---> 54\u001b[0m   tensors \u001b[39m=\u001b[39m pywrap_tfe\u001b[39m.\u001b[39;49mTFE_Py_Execute(ctx\u001b[39m.\u001b[39;49m_handle, device_name, op_name,\n\u001b[1;32m     55\u001b[0m                                       inputs, attrs, num_outputs)\n\u001b[1;32m     56\u001b[0m \u001b[39mexcept\u001b[39;00m core\u001b[39m.\u001b[39m_NotOkStatusException \u001b[39mas\u001b[39;00m e:\n\u001b[1;32m     57\u001b[0m   \u001b[39mif\u001b[39;00m name \u001b[39mis\u001b[39;00m \u001b[39mnot\u001b[39;00m \u001b[39mNone\u001b[39;00m:\n",
      "\u001b[0;31mKeyboardInterrupt\u001b[0m: "
     ]
    }
   ],
   "source": [
    "# Train the model\n",
    "from sklearn.model_selection import train_test_split\n",
    "from keras import backend as K\n",
    "\n",
    "# Q3 Accuracy Implementation from https://www.kaggle.com/code/helmehelmuto/secondary-structure-prediction-with-keras/notebook\n",
    "# \"SS prediction is usually evaluated by Q3 or Q8 accuracy, which measures the percent of residues for which 3-state or 8-state \n",
    "# secondary structure is correctly predicted\"  (doi: 10.1038/srep18962)\n",
    "def q3_acc(y_true, y_pred):\n",
    "    y = tf.argmax(y_true, axis=-1)\n",
    "    y_ = tf.argmax(y_pred, axis=-1)\n",
    "    mask = tf.greater(y, 0)\n",
    "    return K.cast(K.equal(tf.boolean_mask(y, mask), tf.boolean_mask(y_, mask)), K.floatx())\n",
    "\n",
    "model.compile(optimizer = \"rmsprop\", loss = \"categorical_crossentropy\", metrics = [\"accuracy\", q3_acc])\n",
    "model.fit(sst3_data.train_sequences, \n",
    "          sst3_data.y_train_sequences, \n",
    "          batch_size = 128, \n",
    "          epochs = 10, \n",
    "          validation_data = (sst3_data.valid_sequences, \n",
    "                             sst3_data.y_valid_sequences), \n",
    "          verbose = 1)\n",
    "\n",
    "\n"
   ]
  },
  {
   "cell_type": "code",
   "execution_count": 30,
   "metadata": {},
   "outputs": [
    {
     "name": "stdout",
     "output_type": "stream",
     "text": [
      "Model: \"sequential_12\"\n",
      "_________________________________________________________________\n",
      " Layer (type)                Output Shape              Param #   \n",
      "=================================================================\n",
      " embedding_12 (Embedding)    (None, 2128, 256)         2176512   \n",
      "                                                                 \n",
      " bidirectional_12 (Bidirecti  (None, 2128, 256)        394240    \n",
      " onal)                                                           \n",
      "                                                                 \n",
      " time_distributed_14 (TimeDi  (None, 2128, 256)        0         \n",
      " stributed)                                                      \n",
      "                                                                 \n",
      " time_distributed_15 (TimeDi  (None, 2128, 4)          1028      \n",
      " stributed)                                                      \n",
      "                                                                 \n",
      "=================================================================\n",
      "Total params: 2,571,780\n",
      "Trainable params: 2,571,780\n",
      "Non-trainable params: 0\n",
      "_________________________________________________________________\n"
     ]
    }
   ],
   "source": [
    "model2 = Sequential([\n",
    "    # the embedding layer converts the input sequences into higher-dimensional embeddings\n",
    "    # that will be fed to the LSTM layer \n",
    "    Embedding(input_dim = y['sst8']['n_words'], output_dim = 256, input_length = maxlen),\n",
    "    # the LSTM layer processes the sequences, retaining relevant information about the\n",
    "    # context of each input that it processes from both earlier and later in the sequence \n",
    "    Bidirectional(LSTM(units = 128, return_sequences = True)),\n",
    "    TimeDistributed(Dropout(0.1)),\n",
    "    # this layer converts the output from the LSTM layer into the output sequence\n",
    "    TimeDistributed(Dense(y['sst3']['n_ssts'], activation = 'softmax'))])\n",
    "\n",
    "model2.summary()"
   ]
  },
  {
   "cell_type": "code",
   "execution_count": 31,
   "metadata": {},
   "outputs": [
    {
     "name": "stdout",
     "output_type": "stream",
     "text": [
      "Epoch 1/10\n",
      "84/84 [==============================] - 540s 6s/step - loss: 0.1556 - accuracy: 0.9280 - q3_acc: 0.5070 - val_loss: 0.1029 - val_accuracy: 0.9545 - val_q3_acc: 0.6330\n",
      "Epoch 2/10\n",
      "84/84 [==============================] - 534s 6s/step - loss: 0.0998 - accuracy: 0.9560 - q3_acc: 0.6483 - val_loss: 0.1000 - val_accuracy: 0.9559 - val_q3_acc: 0.6438\n",
      "Epoch 3/10\n",
      "84/84 [==============================] - 531s 6s/step - loss: 0.0940 - accuracy: 0.9589 - q3_acc: 0.6711 - val_loss: 0.0935 - val_accuracy: 0.9592 - val_q3_acc: 0.6703\n",
      "Epoch 4/10\n",
      "84/84 [==============================] - 526s 6s/step - loss: 0.0911 - accuracy: 0.9603 - q3_acc: 0.6826 - val_loss: 0.0923 - val_accuracy: 0.9596 - val_q3_acc: 0.6739\n",
      "Epoch 5/10\n",
      "84/84 [==============================] - 536s 6s/step - loss: 0.0889 - accuracy: 0.9614 - q3_acc: 0.6912 - val_loss: 0.0915 - val_accuracy: 0.9601 - val_q3_acc: 0.6778\n",
      "Epoch 6/10\n",
      "84/84 [==============================] - 540s 6s/step - loss: 0.0872 - accuracy: 0.9622 - q3_acc: 0.6979 - val_loss: 0.0912 - val_accuracy: 0.9603 - val_q3_acc: 0.6791\n",
      "Epoch 7/10\n",
      "84/84 [==============================] - 530s 6s/step - loss: 0.0855 - accuracy: 0.9631 - q3_acc: 0.7045 - val_loss: 0.0909 - val_accuracy: 0.9606 - val_q3_acc: 0.6815\n",
      "Epoch 8/10\n",
      "84/84 [==============================] - 534s 6s/step - loss: 0.0840 - accuracy: 0.9638 - q3_acc: 0.7103 - val_loss: 0.0914 - val_accuracy: 0.9603 - val_q3_acc: 0.6798\n",
      "Epoch 9/10\n",
      "84/84 [==============================] - 6022s 72s/step - loss: 0.0829 - accuracy: 0.9643 - q3_acc: 0.7142 - val_loss: 0.0942 - val_accuracy: 0.9596 - val_q3_acc: 0.6735\n",
      "Epoch 10/10\n",
      "84/84 [==============================] - 525s 6s/step - loss: 0.0816 - accuracy: 0.9649 - q3_acc: 0.7193 - val_loss: 0.0913 - val_accuracy: 0.9605 - val_q3_acc: 0.6815\n"
     ]
    },
    {
     "data": {
      "text/plain": [
       "<keras.callbacks.History at 0x38a586cb0>"
      ]
     },
     "execution_count": 31,
     "metadata": {},
     "output_type": "execute_result"
    }
   ],
   "source": [
    "model2.compile(optimizer = \"rmsprop\", loss = \"categorical_crossentropy\", metrics = [\"accuracy\", q3_acc])\n",
    "model2.fit(train_sequences, \n",
    "          y['sst3']['train_sequences'], \n",
    "          batch_size = 128, \n",
    "          epochs = 10, \n",
    "          validation_data = (valid_sequences, \n",
    "                             y['sst3']['valid_sequences']), \n",
    "          verbose = 1)"
   ]
  },
  {
   "cell_type": "code",
   "execution_count": 34,
   "metadata": {},
   "outputs": [
    {
     "name": "stdout",
     "output_type": "stream",
     "text": [
      "Model: \"sequential_13\"\n",
      "_________________________________________________________________\n",
      " Layer (type)                Output Shape              Param #   \n",
      "=================================================================\n",
      " embedding_14 (Embedding)    (None, 2128, 256)         2176512   \n",
      "                                                                 \n",
      " bidirectional_14 (Bidirecti  (None, 2128, 256)        394240    \n",
      " onal)                                                           \n",
      "                                                                 \n",
      " time_distributed_17 (TimeDi  (None, 2128, 256)        0         \n",
      " stributed)                                                      \n",
      "                                                                 \n",
      " bidirectional_15 (Bidirecti  (None, 2128, 112)        140224    \n",
      " onal)                                                           \n",
      "                                                                 \n",
      " time_distributed_18 (TimeDi  (None, 2128, 4)          452       \n",
      " stributed)                                                      \n",
      "                                                                 \n",
      "=================================================================\n",
      "Total params: 2,711,428\n",
      "Trainable params: 2,711,428\n",
      "Non-trainable params: 0\n",
      "_________________________________________________________________\n"
     ]
    }
   ],
   "source": [
    "model3 = Sequential([\n",
    "    # the embedding layer converts the input sequences into higher-dimensional embeddings\n",
    "    # that will be fed to the LSTM layer \n",
    "    Embedding(input_dim = y['sst8']['n_words'], output_dim = 256, input_length = maxlen),\n",
    "    # the LSTM layer processes the sequences, retaining relevant information about the\n",
    "    # context of each input that it processes from both earlier and later in the sequence \n",
    "    Bidirectional(LSTM(units = 128, return_sequences = True)),\n",
    "    TimeDistributed(Dropout(0.1)),\n",
    "    Bidirectional(LSTM(units=56, return_sequences = True)),\n",
    "    # this layer converts the output from the LSTM layer into the output sequence\n",
    "    TimeDistributed(Dense(y['sst3']['n_ssts'], activation = 'softmax'))])\n",
    "\n",
    "model3.summary()"
   ]
  },
  {
   "cell_type": "code",
   "execution_count": 35,
   "metadata": {},
   "outputs": [
    {
     "name": "stdout",
     "output_type": "stream",
     "text": [
      "Epoch 1/10\n",
      "84/84 [==============================] - 773s 9s/step - loss: 0.1493 - accuracy: 0.9313 - q3_acc: 0.4828 - val_loss: 0.1064 - val_accuracy: 0.9519 - val_q3_acc: 0.6118\n",
      "Epoch 2/10\n",
      "84/84 [==============================] - 811s 10s/step - loss: 0.1000 - accuracy: 0.9559 - q3_acc: 0.6476 - val_loss: 0.0996 - val_accuracy: 0.9558 - val_q3_acc: 0.6429\n",
      "Epoch 3/10\n",
      "84/84 [==============================] - 782s 9s/step - loss: 0.0926 - accuracy: 0.9597 - q3_acc: 0.6776 - val_loss: 0.0922 - val_accuracy: 0.9598 - val_q3_acc: 0.6755\n",
      "Epoch 4/10\n",
      "84/84 [==============================] - 785s 9s/step - loss: 0.0892 - accuracy: 0.9613 - q3_acc: 0.6907 - val_loss: 0.0929 - val_accuracy: 0.9597 - val_q3_acc: 0.6749\n",
      "Epoch 5/10\n",
      "84/84 [==============================] - 790s 9s/step - loss: 0.0869 - accuracy: 0.9624 - q3_acc: 0.6992 - val_loss: 0.0909 - val_accuracy: 0.9604 - val_q3_acc: 0.6802\n",
      "Epoch 6/10\n",
      "84/84 [==============================] - 790s 9s/step - loss: 0.0847 - accuracy: 0.9635 - q3_acc: 0.7083 - val_loss: 0.0930 - val_accuracy: 0.9596 - val_q3_acc: 0.6742\n",
      "Epoch 7/10\n",
      "84/84 [==============================] - 789s 9s/step - loss: 0.0829 - accuracy: 0.9644 - q3_acc: 0.7150 - val_loss: 0.0952 - val_accuracy: 0.9584 - val_q3_acc: 0.6638\n",
      "Epoch 8/10\n",
      "84/84 [==============================] - 778s 9s/step - loss: 0.0811 - accuracy: 0.9653 - q3_acc: 0.7220 - val_loss: 0.0916 - val_accuracy: 0.9604 - val_q3_acc: 0.6800\n",
      "Epoch 9/10\n",
      "84/84 [==============================] - 778s 9s/step - loss: 0.0794 - accuracy: 0.9660 - q3_acc: 0.7279 - val_loss: 0.0915 - val_accuracy: 0.9604 - val_q3_acc: 0.6803\n",
      "Epoch 10/10\n",
      "84/84 [==============================] - 777s 9s/step - loss: 0.0776 - accuracy: 0.9668 - q3_acc: 0.7344 - val_loss: 0.0928 - val_accuracy: 0.9605 - val_q3_acc: 0.6814\n"
     ]
    },
    {
     "data": {
      "text/plain": [
       "<keras.callbacks.History at 0x324d59870>"
      ]
     },
     "execution_count": 35,
     "metadata": {},
     "output_type": "execute_result"
    }
   ],
   "source": [
    "model3.compile(optimizer = \"rmsprop\", loss = \"categorical_crossentropy\", metrics = [\"accuracy\", q3_acc])\n",
    "model3.fit(train_sequences, \n",
    "          y['sst3']['train_sequences'], \n",
    "          batch_size = 128, \n",
    "          epochs = 10, \n",
    "          validation_data = (valid_sequences, \n",
    "                             y['sst3']['valid_sequences']), \n",
    "          verbose = 1)"
   ]
  },
  {
   "cell_type": "code",
   "execution_count": 37,
   "metadata": {},
   "outputs": [
    {
     "name": "stdout",
     "output_type": "stream",
     "text": [
      "Model: \"sequential_15\"\n",
      "_________________________________________________________________\n",
      " Layer (type)                Output Shape              Param #   \n",
      "=================================================================\n",
      " embedding_16 (Embedding)    (None, 2128, 256)         2176512   \n",
      "                                                                 \n",
      " bidirectional_17 (Bidirecti  (None, 2128, 256)        394240    \n",
      " onal)                                                           \n",
      "                                                                 \n",
      " time_distributed_20 (TimeDi  (None, 2128, 9)          2313      \n",
      " stributed)                                                      \n",
      "                                                                 \n",
      "=================================================================\n",
      "Total params: 2,573,065\n",
      "Trainable params: 2,573,065\n",
      "Non-trainable params: 0\n",
      "_________________________________________________________________\n",
      "Epoch 1/10\n",
      "84/84 [==============================] - 520s 6s/step - loss: 0.2685 - accuracy: 0.9083 - q3_acc: 0.3502 - val_loss: 0.1818 - val_accuracy: 0.9319 - val_q3_acc: 0.4500\n",
      "Epoch 2/10\n",
      "84/84 [==============================] - 500s 6s/step - loss: 0.1679 - accuracy: 0.9387 - q3_acc: 0.5092 - val_loss: 0.1603 - val_accuracy: 0.9416 - val_q3_acc: 0.5287\n",
      "Epoch 3/10\n",
      "84/84 [==============================] - 499s 6s/step - loss: 0.1566 - accuracy: 0.9429 - q3_acc: 0.5434 - val_loss: 0.1551 - val_accuracy: 0.9433 - val_q3_acc: 0.5423\n",
      "Epoch 4/10\n",
      "84/84 [==============================] - 498s 6s/step - loss: 0.1516 - accuracy: 0.9449 - q3_acc: 0.5594 - val_loss: 0.1533 - val_accuracy: 0.9439 - val_q3_acc: 0.5474\n",
      "Epoch 5/10\n",
      "84/84 [==============================] - 499s 6s/step - loss: 0.1482 - accuracy: 0.9462 - q3_acc: 0.5699 - val_loss: 0.1511 - val_accuracy: 0.9450 - val_q3_acc: 0.5561\n",
      "Epoch 6/10\n",
      "84/84 [==============================] - 513s 6s/step - loss: 0.1454 - accuracy: 0.9473 - q3_acc: 0.5784 - val_loss: 0.1499 - val_accuracy: 0.9454 - val_q3_acc: 0.5596\n",
      "Epoch 7/10\n",
      "84/84 [==============================] - 521s 6s/step - loss: 0.1432 - accuracy: 0.9482 - q3_acc: 0.5854 - val_loss: 0.1509 - val_accuracy: 0.9450 - val_q3_acc: 0.5561\n",
      "Epoch 8/10\n",
      "84/84 [==============================] - 518s 6s/step - loss: 0.1411 - accuracy: 0.9490 - q3_acc: 0.5920 - val_loss: 0.1499 - val_accuracy: 0.9455 - val_q3_acc: 0.5598\n",
      "Epoch 9/10\n",
      "84/84 [==============================] - 523s 6s/step - loss: 0.1394 - accuracy: 0.9496 - q3_acc: 0.5970 - val_loss: 0.1503 - val_accuracy: 0.9456 - val_q3_acc: 0.5608\n",
      "Epoch 10/10\n",
      "84/84 [==============================] - 521s 6s/step - loss: 0.1376 - accuracy: 0.9503 - q3_acc: 0.6025 - val_loss: 0.1511 - val_accuracy: 0.9454 - val_q3_acc: 0.5594\n"
     ]
    },
    {
     "data": {
      "text/plain": [
       "<keras.callbacks.History at 0x32e5f78e0>"
      ]
     },
     "execution_count": 37,
     "metadata": {},
     "output_type": "execute_result"
    }
   ],
   "source": [
    "model4 = Sequential([\n",
    "    # the embedding layer converts the input sequences into higher-dimensional embeddings\n",
    "    # that will be fed to the LSTM layer \n",
    "    Embedding(input_dim = y['sst8']['n_words'], output_dim = 256, input_length = maxlen),\n",
    "    # the LSTM layer processes the sequences, retaining relevant information about the\n",
    "    # context of each input that it processes from both earlier and later in the sequence \n",
    "    Bidirectional(LSTM(units = 128, return_sequences = True)),\n",
    "    # this layer converts the output from the LSTM layer into the output sequence\n",
    "    TimeDistributed(Dense(y['sst8']['n_ssts'], activation = 'softmax'))])\n",
    "\n",
    "model4.summary()\n",
    "\n",
    "model4.compile(optimizer = \"rmsprop\", loss = \"categorical_crossentropy\", metrics = [\"accuracy\", q3_acc])\n",
    "model4.fit(train_sequences, \n",
    "          y['sst8']['train_sequences'], \n",
    "          batch_size = 128, \n",
    "          epochs = 10, \n",
    "          validation_data = (valid_sequences, \n",
    "                             y['sst8']['valid_sequences']), \n",
    "          verbose = 1)"
   ]
  }
 ],
 "metadata": {
  "kernelspec": {
   "display_name": "Python 3.10.5 64-bit",
   "language": "python",
   "name": "python3"
  },
  "language_info": {
   "codemirror_mode": {
    "name": "ipython",
    "version": 3
   },
   "file_extension": ".py",
   "mimetype": "text/x-python",
   "name": "python",
   "nbconvert_exporter": "python",
   "pygments_lexer": "ipython3",
   "version": "3.10.5"
  },
  "orig_nbformat": 4,
  "vscode": {
   "interpreter": {
    "hash": "aee8b7b246df8f9039afb4144a1f6fd8d2ca17a180786b69acc140d282b71a49"
   }
  }
 },
 "nbformat": 4,
 "nbformat_minor": 2
}
