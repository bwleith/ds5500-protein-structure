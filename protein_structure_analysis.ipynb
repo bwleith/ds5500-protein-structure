{
 "cells": [
  {
   "cell_type": "code",
   "execution_count": 1,
   "metadata": {},
   "outputs": [],
   "source": [
    "import pandas as pd \n",
    "import numpy as np "
   ]
  },
  {
   "cell_type": "code",
   "execution_count": 2,
   "metadata": {},
   "outputs": [],
   "source": [
    "# load data\n",
    "\n",
    "# updated data with 25% identity and 2.0 Angstrom cutoffs \n",
    "ss_2022_25_20 = pd.read_csv('2022-08-06-pdb-intersect-pisces_pc25_r2.0.csv')\n",
    "\n",
    "# updated data with 25% identity and 2.5 Angstrom cutoffs \n",
    "ss_2022_25_25 = pd.read_csv('2022-08-06-pdb-intersect-pisces_pc25_r2.5.csv')\n",
    "\n",
    "# updated data with 30% identity and 2.5 Angstrom cutoffs \n",
    "ss_2022_30_25 = pd.read_csv('2022-08-06-pdb-intersect-pisces_pc30_r2.5.csv')"
   ]
  },
  {
   "cell_type": "code",
   "execution_count": 3,
   "metadata": {},
   "outputs": [
    {
     "name": "stdout",
     "output_type": "stream",
     "text": [
      "There are 10724 records in X_train\n",
      "There are 1341 records in X_valid\n",
      "There are 1341 records in X_test\n"
     ]
    }
   ],
   "source": [
    "# split the data\n",
    "from sklearn.model_selection import train_test_split\n",
    "\n",
    "# start by making an 80/20 split to obtain the training data\n",
    "X_train, X_test, y_train, y_test = train_test_split(ss_2022_30_25['seq'], ss_2022_30_25[['sst3','sst8']], test_size = 0.2, random_state = 42)\n",
    "# then do another 50/50 split on the \"test\" data obtained in the \n",
    "# previous line to get the 10% test sample and the 10% validation\n",
    "# sample\n",
    "X_valid, X_test, y_valid, y_test = train_test_split(X_test, y_test, test_size=0.5, random_state=383)\n",
    "\n",
    "print('There are %s records in X_train' %len(X_train))\n",
    "print('There are %s records in X_valid' %len(X_valid))\n",
    "print('There are %s records in X_test' %len(X_test))\n"
   ]
  },
  {
   "cell_type": "code",
   "execution_count": 4,
   "metadata": {},
   "outputs": [],
   "source": [
    "import tensorflow as tf\n",
    "from tensorflow.keras.preprocessing import sequence\n",
    "from tensorflow.keras.preprocessing.text import Tokenizer\n",
    "from tensorflow.keras.utils import to_categorical\n",
    "\n",
    "# convert each sequence to an array of k-mers (i.e. n-grams)\n",
    "# using k-mers allows us to include more information about the context \n",
    "# in which each amino acid appears within the primary protein structure\n",
    "def seq2kmers(seqs, n = 3):\n",
    "    return np.array([[seq[i:i+n] for i in range(len(seq))] for seq in seqs], dtype = object)\n",
    "\n",
    "train_kmers = seq2kmers(X_train, n = 3)\n",
    "valid_kmers = seq2kmers(X_valid, n = 3)\n",
    "test_kmers  = seq2kmers(X_test, n=3)\n",
    "\n",
    "# find the maximum sequence length across all three folds\n",
    "# of the dataset (we need to use this to pad the sequences\n",
    "# later on)\n",
    "maxlen = 0\n",
    "for kmers in [train_kmers, valid_kmers, test_kmers]:\n",
    "    for seq in train_kmers:\n",
    "        if len(seq) > maxlen:\n",
    "            maxlen = len(seq)\n",
    "\n",
    "# convert the k-mers to encoded sequences\n",
    "encoder = Tokenizer()\n",
    "encoder.fit_on_texts(train_kmers)\n",
    "train_sequences = encoder.texts_to_sequences(train_kmers)\n",
    "train_sequences = sequence.pad_sequences(train_sequences, maxlen = maxlen, padding = 'post')\n",
    "\n",
    "test_sequences = encoder.texts_to_sequences(test_kmers)\n",
    "test_sequences = sequence.pad_sequences(test_sequences, maxlen=maxlen, padding='post')\n",
    "\n",
    "valid_sequences = encoder.texts_to_sequences(valid_kmers)\n",
    "valid_sequences = sequence.pad_sequences(valid_sequences, maxlen=maxlen, padding='post')\n",
    "\n",
    "# encode the target sequences \n",
    "y = {}\n",
    "\n",
    "# convert training, validation, and test SSTs for both SST3 and SST8 into\n",
    "# numeric sequences that can be used by the model.\n",
    "for target in ['sst3', 'sst8']:\n",
    "    y[target] = {}\n",
    "    decoder = Tokenizer(char_level = True)\n",
    "    decoder.fit_on_texts(y_train[target])\n",
    "\n",
    "    # convert texts to sequences \n",
    "    y_train_sequences = decoder.texts_to_sequences(y_train[target])\n",
    "    # pad the sequences so that they are all the same length (we\n",
    "    # use the length of the longest sequence to avoid truncation)\n",
    "    y_train_sequences = sequence.pad_sequences(y_train_sequences, maxlen = maxlen, padding = 'post')\n",
    "    # convert the sequences to categorical tensors\n",
    "    y_train_sequences = to_categorical(y_train_sequences)\n",
    "\n",
    "    # repeat this process on the test labels \n",
    "    y_test_sequences = decoder.texts_to_sequences(y_test[target])\n",
    "    y_test_sequences = sequence.pad_sequences(y_test_sequences, maxlen = maxlen, padding = 'post')\n",
    "    y_test_sequences = to_categorical(y_test_sequences)\n",
    "\n",
    "    # repeat the process on the validation labels\n",
    "    y_valid_sequences = decoder.texts_to_sequences(y_valid[target])\n",
    "    y_valid_sequences = sequence.pad_sequences(y_valid_sequences, maxlen = maxlen, padding = 'post')\n",
    "    y_valid_sequences = to_categorical(y_valid_sequences)\n",
    "\n",
    "    # store the sequences and model metadata in a dict\n",
    "    y[target]['train_sequences'] = y_train_sequences\n",
    "    y[target]['valid_sequences'] = y_valid_sequences \n",
    "    y[target]['test_sequences'] = y_test_sequences \n",
    "    y[target]['n_words'] = len(encoder.word_index) + 1 \n",
    "    y[target]['n_ssts'] = len(decoder.word_index) + 1\n"
   ]
  },
  {
   "cell_type": "code",
   "execution_count": 5,
   "metadata": {},
   "outputs": [
    {
     "name": "stdout",
     "output_type": "stream",
     "text": [
      "Model: \"sequential\"\n",
      "_________________________________________________________________\n",
      " Layer (type)                Output Shape              Param #   \n",
      "=================================================================\n",
      " embedding (Embedding)       (None, 2128, 256)         2176512   \n",
      "                                                                 \n",
      " bidirectional (Bidirectiona  (None, 2128, 128)        164352    \n",
      " l)                                                              \n",
      "                                                                 \n",
      " time_distributed (TimeDistr  (None, 2128, 4)          516       \n",
      " ibuted)                                                         \n",
      "                                                                 \n",
      "=================================================================\n",
      "Total params: 2,341,380\n",
      "Trainable params: 2,341,380\n",
      "Non-trainable params: 0\n",
      "_________________________________________________________________\n"
     ]
    }
   ],
   "source": [
    "# Build the model for predicting the SST3 sequence\n",
    "\n",
    "from tensorflow.keras import Sequential\n",
    "from tensorflow.keras.models import Model\n",
    "from tensorflow.keras.layers import LSTM, Embedding, Dense, TimeDistributed, Bidirectional\n",
    "\n",
    "\n",
    "model = Sequential([\n",
    "    # the embedding layer converts the input sequences into higher-dimensional embeddings\n",
    "    # that will be fed to the LSTM layer \n",
    "    Embedding(input_dim = y['sst3']['n_words'], output_dim = 256, input_length = maxlen),\n",
    "    # the LSTM layer processes the sequences, retaining relevant information about the\n",
    "    # context of each input that it processes from both earlier and later in the sequence \n",
    "    Bidirectional(LSTM(units = 64, return_sequences = True, recurrent_dropout = 0.1)),\n",
    "    # this layer converts the output from the LSTM layer into the output sequence\n",
    "    TimeDistributed(Dense(y['sst3']['n_ssts'], activation = 'softmax'))])\n",
    "\n",
    "model.summary()"
   ]
  },
  {
   "cell_type": "code",
   "execution_count": 6,
   "metadata": {},
   "outputs": [
    {
     "name": "stdout",
     "output_type": "stream",
     "text": [
      "Epoch 1/10\n"
     ]
    },
    {
     "name": "stderr",
     "output_type": "stream",
     "text": [
      "2023-01-31 20:08:44.183129: W tensorflow/core/platform/profile_utils/cpu_utils.cc:128] Failed to get CPU frequency: 0 Hz\n"
     ]
    },
    {
     "name": "stdout",
     "output_type": "stream",
     "text": [
      " 2/84 [..............................] - ETA: 7:04 - loss: 1.2134 - accuracy: 0.4696 - q3_acc: 0.2160"
     ]
    },
    {
     "ename": "KeyboardInterrupt",
     "evalue": "",
     "output_type": "error",
     "traceback": [
      "\u001b[0;31m---------------------------------------------------------------------------\u001b[0m",
      "\u001b[0;31mKeyboardInterrupt\u001b[0m                         Traceback (most recent call last)",
      "\u001b[1;32m/Users/williamleith/Documents/ds5500-protein-structure/protein_structure_analysis.ipynb Cell 6\u001b[0m in \u001b[0;36m<cell line: 15>\u001b[0;34m()\u001b[0m\n\u001b[1;32m     <a href='vscode-notebook-cell:/Users/williamleith/Documents/ds5500-protein-structure/protein_structure_analysis.ipynb#ch0000005?line=11'>12</a>\u001b[0m     \u001b[39mreturn\u001b[39;00m K\u001b[39m.\u001b[39mcast(K\u001b[39m.\u001b[39mequal(tf\u001b[39m.\u001b[39mboolean_mask(y, mask), tf\u001b[39m.\u001b[39mboolean_mask(y_, mask)), K\u001b[39m.\u001b[39mfloatx())\n\u001b[1;32m     <a href='vscode-notebook-cell:/Users/williamleith/Documents/ds5500-protein-structure/protein_structure_analysis.ipynb#ch0000005?line=13'>14</a>\u001b[0m model\u001b[39m.\u001b[39mcompile(optimizer \u001b[39m=\u001b[39m \u001b[39m\"\u001b[39m\u001b[39mrmsprop\u001b[39m\u001b[39m\"\u001b[39m, loss \u001b[39m=\u001b[39m \u001b[39m\"\u001b[39m\u001b[39mcategorical_crossentropy\u001b[39m\u001b[39m\"\u001b[39m, metrics \u001b[39m=\u001b[39m [\u001b[39m\"\u001b[39m\u001b[39maccuracy\u001b[39m\u001b[39m\"\u001b[39m, q3_acc])\n\u001b[0;32m---> <a href='vscode-notebook-cell:/Users/williamleith/Documents/ds5500-protein-structure/protein_structure_analysis.ipynb#ch0000005?line=14'>15</a>\u001b[0m model\u001b[39m.\u001b[39;49mfit(train_sequences, \n\u001b[1;32m     <a href='vscode-notebook-cell:/Users/williamleith/Documents/ds5500-protein-structure/protein_structure_analysis.ipynb#ch0000005?line=15'>16</a>\u001b[0m           y[\u001b[39m'\u001b[39;49m\u001b[39msst3\u001b[39;49m\u001b[39m'\u001b[39;49m][\u001b[39m'\u001b[39;49m\u001b[39mtrain_sequences\u001b[39;49m\u001b[39m'\u001b[39;49m], \n\u001b[1;32m     <a href='vscode-notebook-cell:/Users/williamleith/Documents/ds5500-protein-structure/protein_structure_analysis.ipynb#ch0000005?line=16'>17</a>\u001b[0m           batch_size \u001b[39m=\u001b[39;49m \u001b[39m128\u001b[39;49m, \n\u001b[1;32m     <a href='vscode-notebook-cell:/Users/williamleith/Documents/ds5500-protein-structure/protein_structure_analysis.ipynb#ch0000005?line=17'>18</a>\u001b[0m           epochs \u001b[39m=\u001b[39;49m \u001b[39m10\u001b[39;49m, \n\u001b[1;32m     <a href='vscode-notebook-cell:/Users/williamleith/Documents/ds5500-protein-structure/protein_structure_analysis.ipynb#ch0000005?line=18'>19</a>\u001b[0m           validation_data \u001b[39m=\u001b[39;49m (valid_sequences, \n\u001b[1;32m     <a href='vscode-notebook-cell:/Users/williamleith/Documents/ds5500-protein-structure/protein_structure_analysis.ipynb#ch0000005?line=19'>20</a>\u001b[0m                              y[\u001b[39m'\u001b[39;49m\u001b[39msst3\u001b[39;49m\u001b[39m'\u001b[39;49m][\u001b[39m'\u001b[39;49m\u001b[39mvalid_sequences\u001b[39;49m\u001b[39m'\u001b[39;49m]), \n\u001b[1;32m     <a href='vscode-notebook-cell:/Users/williamleith/Documents/ds5500-protein-structure/protein_structure_analysis.ipynb#ch0000005?line=20'>21</a>\u001b[0m           verbose \u001b[39m=\u001b[39;49m \u001b[39m1\u001b[39;49m)\n",
      "File \u001b[0;32m/Library/Frameworks/Python.framework/Versions/3.10/lib/python3.10/site-packages/keras/utils/traceback_utils.py:65\u001b[0m, in \u001b[0;36mfilter_traceback.<locals>.error_handler\u001b[0;34m(*args, **kwargs)\u001b[0m\n\u001b[1;32m     63\u001b[0m filtered_tb \u001b[39m=\u001b[39m \u001b[39mNone\u001b[39;00m\n\u001b[1;32m     64\u001b[0m \u001b[39mtry\u001b[39;00m:\n\u001b[0;32m---> 65\u001b[0m     \u001b[39mreturn\u001b[39;00m fn(\u001b[39m*\u001b[39;49margs, \u001b[39m*\u001b[39;49m\u001b[39m*\u001b[39;49mkwargs)\n\u001b[1;32m     66\u001b[0m \u001b[39mexcept\u001b[39;00m \u001b[39mException\u001b[39;00m \u001b[39mas\u001b[39;00m e:\n\u001b[1;32m     67\u001b[0m     filtered_tb \u001b[39m=\u001b[39m _process_traceback_frames(e\u001b[39m.\u001b[39m__traceback__)\n",
      "File \u001b[0;32m/Library/Frameworks/Python.framework/Versions/3.10/lib/python3.10/site-packages/keras/engine/training.py:1564\u001b[0m, in \u001b[0;36mModel.fit\u001b[0;34m(self, x, y, batch_size, epochs, verbose, callbacks, validation_split, validation_data, shuffle, class_weight, sample_weight, initial_epoch, steps_per_epoch, validation_steps, validation_batch_size, validation_freq, max_queue_size, workers, use_multiprocessing)\u001b[0m\n\u001b[1;32m   1556\u001b[0m \u001b[39mwith\u001b[39;00m tf\u001b[39m.\u001b[39mprofiler\u001b[39m.\u001b[39mexperimental\u001b[39m.\u001b[39mTrace(\n\u001b[1;32m   1557\u001b[0m     \u001b[39m\"\u001b[39m\u001b[39mtrain\u001b[39m\u001b[39m\"\u001b[39m,\n\u001b[1;32m   1558\u001b[0m     epoch_num\u001b[39m=\u001b[39mepoch,\n\u001b[0;32m   (...)\u001b[0m\n\u001b[1;32m   1561\u001b[0m     _r\u001b[39m=\u001b[39m\u001b[39m1\u001b[39m,\n\u001b[1;32m   1562\u001b[0m ):\n\u001b[1;32m   1563\u001b[0m     callbacks\u001b[39m.\u001b[39mon_train_batch_begin(step)\n\u001b[0;32m-> 1564\u001b[0m     tmp_logs \u001b[39m=\u001b[39m \u001b[39mself\u001b[39;49m\u001b[39m.\u001b[39;49mtrain_function(iterator)\n\u001b[1;32m   1565\u001b[0m     \u001b[39mif\u001b[39;00m data_handler\u001b[39m.\u001b[39mshould_sync:\n\u001b[1;32m   1566\u001b[0m         context\u001b[39m.\u001b[39masync_wait()\n",
      "File \u001b[0;32m/Library/Frameworks/Python.framework/Versions/3.10/lib/python3.10/site-packages/tensorflow/python/util/traceback_utils.py:150\u001b[0m, in \u001b[0;36mfilter_traceback.<locals>.error_handler\u001b[0;34m(*args, **kwargs)\u001b[0m\n\u001b[1;32m    148\u001b[0m filtered_tb \u001b[39m=\u001b[39m \u001b[39mNone\u001b[39;00m\n\u001b[1;32m    149\u001b[0m \u001b[39mtry\u001b[39;00m:\n\u001b[0;32m--> 150\u001b[0m   \u001b[39mreturn\u001b[39;00m fn(\u001b[39m*\u001b[39;49margs, \u001b[39m*\u001b[39;49m\u001b[39m*\u001b[39;49mkwargs)\n\u001b[1;32m    151\u001b[0m \u001b[39mexcept\u001b[39;00m \u001b[39mException\u001b[39;00m \u001b[39mas\u001b[39;00m e:\n\u001b[1;32m    152\u001b[0m   filtered_tb \u001b[39m=\u001b[39m _process_traceback_frames(e\u001b[39m.\u001b[39m__traceback__)\n",
      "File \u001b[0;32m/Library/Frameworks/Python.framework/Versions/3.10/lib/python3.10/site-packages/tensorflow/python/eager/def_function.py:915\u001b[0m, in \u001b[0;36mFunction.__call__\u001b[0;34m(self, *args, **kwds)\u001b[0m\n\u001b[1;32m    912\u001b[0m compiler \u001b[39m=\u001b[39m \u001b[39m\"\u001b[39m\u001b[39mxla\u001b[39m\u001b[39m\"\u001b[39m \u001b[39mif\u001b[39;00m \u001b[39mself\u001b[39m\u001b[39m.\u001b[39m_jit_compile \u001b[39melse\u001b[39;00m \u001b[39m\"\u001b[39m\u001b[39mnonXla\u001b[39m\u001b[39m\"\u001b[39m\n\u001b[1;32m    914\u001b[0m \u001b[39mwith\u001b[39;00m OptionalXlaContext(\u001b[39mself\u001b[39m\u001b[39m.\u001b[39m_jit_compile):\n\u001b[0;32m--> 915\u001b[0m   result \u001b[39m=\u001b[39m \u001b[39mself\u001b[39;49m\u001b[39m.\u001b[39;49m_call(\u001b[39m*\u001b[39;49margs, \u001b[39m*\u001b[39;49m\u001b[39m*\u001b[39;49mkwds)\n\u001b[1;32m    917\u001b[0m new_tracing_count \u001b[39m=\u001b[39m \u001b[39mself\u001b[39m\u001b[39m.\u001b[39mexperimental_get_tracing_count()\n\u001b[1;32m    918\u001b[0m without_tracing \u001b[39m=\u001b[39m (tracing_count \u001b[39m==\u001b[39m new_tracing_count)\n",
      "File \u001b[0;32m/Library/Frameworks/Python.framework/Versions/3.10/lib/python3.10/site-packages/tensorflow/python/eager/def_function.py:947\u001b[0m, in \u001b[0;36mFunction._call\u001b[0;34m(self, *args, **kwds)\u001b[0m\n\u001b[1;32m    944\u001b[0m   \u001b[39mself\u001b[39m\u001b[39m.\u001b[39m_lock\u001b[39m.\u001b[39mrelease()\n\u001b[1;32m    945\u001b[0m   \u001b[39m# In this case we have created variables on the first call, so we run the\u001b[39;00m\n\u001b[1;32m    946\u001b[0m   \u001b[39m# defunned version which is guaranteed to never create variables.\u001b[39;00m\n\u001b[0;32m--> 947\u001b[0m   \u001b[39mreturn\u001b[39;00m \u001b[39mself\u001b[39;49m\u001b[39m.\u001b[39;49m_stateless_fn(\u001b[39m*\u001b[39;49margs, \u001b[39m*\u001b[39;49m\u001b[39m*\u001b[39;49mkwds)  \u001b[39m# pylint: disable=not-callable\u001b[39;00m\n\u001b[1;32m    948\u001b[0m \u001b[39melif\u001b[39;00m \u001b[39mself\u001b[39m\u001b[39m.\u001b[39m_stateful_fn \u001b[39mis\u001b[39;00m \u001b[39mnot\u001b[39;00m \u001b[39mNone\u001b[39;00m:\n\u001b[1;32m    949\u001b[0m   \u001b[39m# Release the lock early so that multiple threads can perform the call\u001b[39;00m\n\u001b[1;32m    950\u001b[0m   \u001b[39m# in parallel.\u001b[39;00m\n\u001b[1;32m    951\u001b[0m   \u001b[39mself\u001b[39m\u001b[39m.\u001b[39m_lock\u001b[39m.\u001b[39mrelease()\n",
      "File \u001b[0;32m/Library/Frameworks/Python.framework/Versions/3.10/lib/python3.10/site-packages/tensorflow/python/eager/function.py:2496\u001b[0m, in \u001b[0;36mFunction.__call__\u001b[0;34m(self, *args, **kwargs)\u001b[0m\n\u001b[1;32m   2493\u001b[0m \u001b[39mwith\u001b[39;00m \u001b[39mself\u001b[39m\u001b[39m.\u001b[39m_lock:\n\u001b[1;32m   2494\u001b[0m   (graph_function,\n\u001b[1;32m   2495\u001b[0m    filtered_flat_args) \u001b[39m=\u001b[39m \u001b[39mself\u001b[39m\u001b[39m.\u001b[39m_maybe_define_function(args, kwargs)\n\u001b[0;32m-> 2496\u001b[0m \u001b[39mreturn\u001b[39;00m graph_function\u001b[39m.\u001b[39;49m_call_flat(\n\u001b[1;32m   2497\u001b[0m     filtered_flat_args, captured_inputs\u001b[39m=\u001b[39;49mgraph_function\u001b[39m.\u001b[39;49mcaptured_inputs)\n",
      "File \u001b[0;32m/Library/Frameworks/Python.framework/Versions/3.10/lib/python3.10/site-packages/tensorflow/python/eager/function.py:1862\u001b[0m, in \u001b[0;36mConcreteFunction._call_flat\u001b[0;34m(self, args, captured_inputs, cancellation_manager)\u001b[0m\n\u001b[1;32m   1858\u001b[0m possible_gradient_type \u001b[39m=\u001b[39m gradients_util\u001b[39m.\u001b[39mPossibleTapeGradientTypes(args)\n\u001b[1;32m   1859\u001b[0m \u001b[39mif\u001b[39;00m (possible_gradient_type \u001b[39m==\u001b[39m gradients_util\u001b[39m.\u001b[39mPOSSIBLE_GRADIENT_TYPES_NONE\n\u001b[1;32m   1860\u001b[0m     \u001b[39mand\u001b[39;00m executing_eagerly):\n\u001b[1;32m   1861\u001b[0m   \u001b[39m# No tape is watching; skip to running the function.\u001b[39;00m\n\u001b[0;32m-> 1862\u001b[0m   \u001b[39mreturn\u001b[39;00m \u001b[39mself\u001b[39m\u001b[39m.\u001b[39m_build_call_outputs(\u001b[39mself\u001b[39;49m\u001b[39m.\u001b[39;49m_inference_function\u001b[39m.\u001b[39;49mcall(\n\u001b[1;32m   1863\u001b[0m       ctx, args, cancellation_manager\u001b[39m=\u001b[39;49mcancellation_manager))\n\u001b[1;32m   1864\u001b[0m forward_backward \u001b[39m=\u001b[39m \u001b[39mself\u001b[39m\u001b[39m.\u001b[39m_select_forward_and_backward_functions(\n\u001b[1;32m   1865\u001b[0m     args,\n\u001b[1;32m   1866\u001b[0m     possible_gradient_type,\n\u001b[1;32m   1867\u001b[0m     executing_eagerly)\n\u001b[1;32m   1868\u001b[0m forward_function, args_with_tangents \u001b[39m=\u001b[39m forward_backward\u001b[39m.\u001b[39mforward()\n",
      "File \u001b[0;32m/Library/Frameworks/Python.framework/Versions/3.10/lib/python3.10/site-packages/tensorflow/python/eager/function.py:499\u001b[0m, in \u001b[0;36m_EagerDefinedFunction.call\u001b[0;34m(self, ctx, args, cancellation_manager)\u001b[0m\n\u001b[1;32m    497\u001b[0m \u001b[39mwith\u001b[39;00m _InterpolateFunctionError(\u001b[39mself\u001b[39m):\n\u001b[1;32m    498\u001b[0m   \u001b[39mif\u001b[39;00m cancellation_manager \u001b[39mis\u001b[39;00m \u001b[39mNone\u001b[39;00m:\n\u001b[0;32m--> 499\u001b[0m     outputs \u001b[39m=\u001b[39m execute\u001b[39m.\u001b[39;49mexecute(\n\u001b[1;32m    500\u001b[0m         \u001b[39mstr\u001b[39;49m(\u001b[39mself\u001b[39;49m\u001b[39m.\u001b[39;49msignature\u001b[39m.\u001b[39;49mname),\n\u001b[1;32m    501\u001b[0m         num_outputs\u001b[39m=\u001b[39;49m\u001b[39mself\u001b[39;49m\u001b[39m.\u001b[39;49m_num_outputs,\n\u001b[1;32m    502\u001b[0m         inputs\u001b[39m=\u001b[39;49margs,\n\u001b[1;32m    503\u001b[0m         attrs\u001b[39m=\u001b[39;49mattrs,\n\u001b[1;32m    504\u001b[0m         ctx\u001b[39m=\u001b[39;49mctx)\n\u001b[1;32m    505\u001b[0m   \u001b[39melse\u001b[39;00m:\n\u001b[1;32m    506\u001b[0m     outputs \u001b[39m=\u001b[39m execute\u001b[39m.\u001b[39mexecute_with_cancellation(\n\u001b[1;32m    507\u001b[0m         \u001b[39mstr\u001b[39m(\u001b[39mself\u001b[39m\u001b[39m.\u001b[39msignature\u001b[39m.\u001b[39mname),\n\u001b[1;32m    508\u001b[0m         num_outputs\u001b[39m=\u001b[39m\u001b[39mself\u001b[39m\u001b[39m.\u001b[39m_num_outputs,\n\u001b[0;32m   (...)\u001b[0m\n\u001b[1;32m    511\u001b[0m         ctx\u001b[39m=\u001b[39mctx,\n\u001b[1;32m    512\u001b[0m         cancellation_manager\u001b[39m=\u001b[39mcancellation_manager)\n",
      "File \u001b[0;32m/Library/Frameworks/Python.framework/Versions/3.10/lib/python3.10/site-packages/tensorflow/python/eager/execute.py:54\u001b[0m, in \u001b[0;36mquick_execute\u001b[0;34m(op_name, num_outputs, inputs, attrs, ctx, name)\u001b[0m\n\u001b[1;32m     52\u001b[0m \u001b[39mtry\u001b[39;00m:\n\u001b[1;32m     53\u001b[0m   ctx\u001b[39m.\u001b[39mensure_initialized()\n\u001b[0;32m---> 54\u001b[0m   tensors \u001b[39m=\u001b[39m pywrap_tfe\u001b[39m.\u001b[39;49mTFE_Py_Execute(ctx\u001b[39m.\u001b[39;49m_handle, device_name, op_name,\n\u001b[1;32m     55\u001b[0m                                       inputs, attrs, num_outputs)\n\u001b[1;32m     56\u001b[0m \u001b[39mexcept\u001b[39;00m core\u001b[39m.\u001b[39m_NotOkStatusException \u001b[39mas\u001b[39;00m e:\n\u001b[1;32m     57\u001b[0m   \u001b[39mif\u001b[39;00m name \u001b[39mis\u001b[39;00m \u001b[39mnot\u001b[39;00m \u001b[39mNone\u001b[39;00m:\n",
      "\u001b[0;31mKeyboardInterrupt\u001b[0m: "
     ]
    }
   ],
   "source": [
    "# Train the model\n",
    "from sklearn.model_selection import train_test_split\n",
    "from keras import backend as K\n",
    "\n",
    "# Q3 Accuracy Implementation from https://www.kaggle.com/code/helmehelmuto/secondary-structure-prediction-with-keras/notebook\n",
    "# \"SS prediction is usually evaluated by Q3 or Q8 accuracy, which measures the percent of residues for which 3-state or 8-state \n",
    "# secondary structure is correctly predicted\"  (doi: 10.1038/srep18962)\n",
    "def q3_acc(y_true, y_pred):\n",
    "    y = tf.argmax(y_true, axis=-1)\n",
    "    y_ = tf.argmax(y_pred, axis=-1)\n",
    "    mask = tf.greater(y, 0)\n",
    "    return K.cast(K.equal(tf.boolean_mask(y, mask), tf.boolean_mask(y_, mask)), K.floatx())\n",
    "\n",
    "model.compile(optimizer = \"rmsprop\", loss = \"categorical_crossentropy\", metrics = [\"accuracy\", q3_acc])\n",
    "model.fit(train_sequences, \n",
    "          y['sst3']['train_sequences'], \n",
    "          batch_size = 128, \n",
    "          epochs = 10, \n",
    "          validation_data = (valid_sequences, \n",
    "                             y['sst3']['valid_sequences']), \n",
    "          verbose = 1)\n",
    "\n",
    "\n"
   ]
  }
 ],
 "metadata": {
  "kernelspec": {
   "display_name": "Python 3.10.5 64-bit",
   "language": "python",
   "name": "python3"
  },
  "language_info": {
   "codemirror_mode": {
    "name": "ipython",
    "version": 3
   },
   "file_extension": ".py",
   "mimetype": "text/x-python",
   "name": "python",
   "nbconvert_exporter": "python",
   "pygments_lexer": "ipython3",
   "version": "3.10.5"
  },
  "orig_nbformat": 4,
  "vscode": {
   "interpreter": {
    "hash": "aee8b7b246df8f9039afb4144a1f6fd8d2ca17a180786b69acc140d282b71a49"
   }
  }
 },
 "nbformat": 4,
 "nbformat_minor": 2
}
