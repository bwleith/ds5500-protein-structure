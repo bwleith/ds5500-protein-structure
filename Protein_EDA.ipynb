{
 "cells": [
  {
   "cell_type": "markdown",
   "id": "246ab558-3145-41f4-aa2d-90593543c100",
   "metadata": {},
   "source": [
    "# Load Data"
   ]
  },
  {
   "cell_type": "code",
   "execution_count": 1,
   "id": "b06e88b3-9568-49c8-baa3-3d5e3a1760ad",
   "metadata": {},
   "outputs": [],
   "source": [
    "import pandas as pd\n",
    "import seaborn as sns\n",
    "import numpy as np\n",
    "import matplotlib.pyplot as plt\n",
    "import os\n",
    "\n",
    "import warnings\n",
    "warnings.filterwarnings('ignore')"
   ]
  },
  {
   "cell_type": "code",
   "execution_count": 2,
   "id": "e876d466-db44-45aa-aab3-7d47d659a881",
   "metadata": {},
   "outputs": [],
   "source": [
    "path = '/content/drive/MyDrive/NEU/5500'"
   ]
  },
  {
   "cell_type": "code",
   "execution_count": 3,
   "id": "6443c29b-5136-48e8-b04f-154e23ed5bc1",
   "metadata": {},
   "outputs": [],
   "source": [
    "df_raw_data = pd.read_csv('2022-08-03-ss.cleaned.csv') # import review data"
   ]
  },
  {
   "cell_type": "markdown",
   "id": "ef974e5f-a87c-4116-bc17-02f9ba797628",
   "metadata": {},
   "source": [
    "# EDA"
   ]
  },
  {
   "cell_type": "code",
   "execution_count": 54,
   "id": "17cb48f6-3ed7-4d97-bc9d-66674c6ebac2",
   "metadata": {},
   "outputs": [
    {
     "data": {
      "text/html": [
       "<div>\n",
       "<style scoped>\n",
       "    .dataframe tbody tr th:only-of-type {\n",
       "        vertical-align: middle;\n",
       "    }\n",
       "\n",
       "    .dataframe tbody tr th {\n",
       "        vertical-align: top;\n",
       "    }\n",
       "\n",
       "    .dataframe thead th {\n",
       "        text-align: right;\n",
       "    }\n",
       "</style>\n",
       "<table border=\"1\" class=\"dataframe\">\n",
       "  <thead>\n",
       "    <tr style=\"text-align: right;\">\n",
       "      <th></th>\n",
       "      <th>pdb_id</th>\n",
       "      <th>chain_code</th>\n",
       "      <th>seq</th>\n",
       "      <th>sst8</th>\n",
       "      <th>sst3</th>\n",
       "      <th>len_x</th>\n",
       "      <th>has_nonstd_aa</th>\n",
       "    </tr>\n",
       "  </thead>\n",
       "  <tbody>\n",
       "    <tr>\n",
       "      <th>258049</th>\n",
       "      <td>4RM5</td>\n",
       "      <td>B</td>\n",
       "      <td>GEIRPTIGQQMETGDQRFGDLVFRQLAPNVWQHTSYLDMPGFGAVA...</td>\n",
       "      <td>CCCCCCCCCCCCCCCEEETTEEEEEEETTEEEEEEECCCCCCCCCE...</td>\n",
       "      <td>CCCCCCCCCCCCCCCEEECCEEEEEEECCEEEEEEECCCCCCCCCE...</td>\n",
       "      <td>242</td>\n",
       "      <td>False</td>\n",
       "    </tr>\n",
       "    <tr>\n",
       "      <th>415022</th>\n",
       "      <td>4UF7</td>\n",
       "      <td>A</td>\n",
       "      <td>ETGAHGPSPCRNFSSVPTIYYYRIPGLYNRTALDERCILNPRLTIS...</td>\n",
       "      <td>CCCCCCCCCCCCCTTCCCCEEEEECCSCCCTTCTTEEEEEEEEEEE...</td>\n",
       "      <td>CCCCCCCCCCCCCCCCCCCEEEEECCCCCCCCCCCEEEEEEEEEEE...</td>\n",
       "      <td>454</td>\n",
       "      <td>False</td>\n",
       "    </tr>\n",
       "    <tr>\n",
       "      <th>16266</th>\n",
       "      <td>2MVL</td>\n",
       "      <td>A</td>\n",
       "      <td>TNRRKSGKYKKVEIKELGELRKEPSL</td>\n",
       "      <td>CCCGGGSTHHHHHHHHHHTTTSCSCC</td>\n",
       "      <td>CCCHHHCCHHHHHHHHHHCCCCCCCC</td>\n",
       "      <td>26</td>\n",
       "      <td>False</td>\n",
       "    </tr>\n",
       "    <tr>\n",
       "      <th>269717</th>\n",
       "      <td>4YJK</td>\n",
       "      <td>E</td>\n",
       "      <td>MADVFHLGLTKAMLDGATLAIVPGDPERVKRIAELMDNATFLASHR...</td>\n",
       "      <td>CCCSTTTCCCGGGGTTCCEEEECSCGGGHHHHHTTSEEEEEEEEET...</td>\n",
       "      <td>CCCCCCCCCCHHHHCCCCEEEECCCHHHHHHHHCCCEEEEEEEEEC...</td>\n",
       "      <td>252</td>\n",
       "      <td>False</td>\n",
       "    </tr>\n",
       "    <tr>\n",
       "      <th>139149</th>\n",
       "      <td>3IN6</td>\n",
       "      <td>A</td>\n",
       "      <td>GMLESVRKEWLEIMDRELLEKARSLINANYISTTLSTVDRNYEVNI...</td>\n",
       "      <td>CHHHHHHHHHHHHHHHHHHHHHHHHHHHTCSSEEEEEECTTCCEEE...</td>\n",
       "      <td>CHHHHHHHHHHHHHHHHHHHHHHHHHHHCCCCEEEEEECCCCCEEE...</td>\n",
       "      <td>148</td>\n",
       "      <td>False</td>\n",
       "    </tr>\n",
       "    <tr>\n",
       "      <th>375271</th>\n",
       "      <td>2VOE</td>\n",
       "      <td>B</td>\n",
       "      <td>MRVGIPTETKNNEFRVAITPAGVAELTRRGHEVLIQAGAGEGSAIT...</td>\n",
       "      <td>CEEEECCCCSTTCCCCSCCHHHHHHHHHTTCEEEEETTTTGGGTCC...</td>\n",
       "      <td>CEEEECCCCCCCCCCCCCCHHHHHHHHHCCCEEEEECCCCHHHCCC...</td>\n",
       "      <td>371</td>\n",
       "      <td>False</td>\n",
       "    </tr>\n",
       "    <tr>\n",
       "      <th>62374</th>\n",
       "      <td>4RNG</td>\n",
       "      <td>C</td>\n",
       "      <td>MEFSIDLNNLIGIIAGAITTSALIPQALKIYKTKSARDVSLAMFIF...</td>\n",
       "      <td>CCCCCCHHHHHHHHHHHHHHHTHHHHHHHHHHHTCCTTSCHHHHHH...</td>\n",
       "      <td>CCCCCCHHHHHHHHHHHHHHHCHHHHHHHHHHHCCCCCCCHHHHHH...</td>\n",
       "      <td>94</td>\n",
       "      <td>False</td>\n",
       "    </tr>\n",
       "    <tr>\n",
       "      <th>187676</th>\n",
       "      <td>3QPI</td>\n",
       "      <td>A</td>\n",
       "      <td>MTFTVFTGGDSGAWSILSVAPVIGESLMAASHLAIAPSLSLGDTSA...</td>\n",
       "      <td>CCCEEEEEESCSSEEEEEEEEEESCCCCCCSEEEEEECCCCCCCCC...</td>\n",
       "      <td>CCCEEEEEECCCCEEEEEEEEEECCCCCCCCEEEEEECCCCCCCCC...</td>\n",
       "      <td>189</td>\n",
       "      <td>False</td>\n",
       "    </tr>\n",
       "  </tbody>\n",
       "</table>\n",
       "</div>"
      ],
      "text/plain": [
       "       pdb_id chain_code                                                seq  \\\n",
       "258049   4RM5          B  GEIRPTIGQQMETGDQRFGDLVFRQLAPNVWQHTSYLDMPGFGAVA...   \n",
       "415022   4UF7          A  ETGAHGPSPCRNFSSVPTIYYYRIPGLYNRTALDERCILNPRLTIS...   \n",
       "16266    2MVL          A                         TNRRKSGKYKKVEIKELGELRKEPSL   \n",
       "269717   4YJK          E  MADVFHLGLTKAMLDGATLAIVPGDPERVKRIAELMDNATFLASHR...   \n",
       "139149   3IN6          A  GMLESVRKEWLEIMDRELLEKARSLINANYISTTLSTVDRNYEVNI...   \n",
       "375271   2VOE          B  MRVGIPTETKNNEFRVAITPAGVAELTRRGHEVLIQAGAGEGSAIT...   \n",
       "62374    4RNG          C  MEFSIDLNNLIGIIAGAITTSALIPQALKIYKTKSARDVSLAMFIF...   \n",
       "187676   3QPI          A  MTFTVFTGGDSGAWSILSVAPVIGESLMAASHLAIAPSLSLGDTSA...   \n",
       "\n",
       "                                                     sst8  \\\n",
       "258049  CCCCCCCCCCCCCCCEEETTEEEEEEETTEEEEEEECCCCCCCCCE...   \n",
       "415022  CCCCCCCCCCCCCTTCCCCEEEEECCSCCCTTCTTEEEEEEEEEEE...   \n",
       "16266                          CCCGGGSTHHHHHHHHHHTTTSCSCC   \n",
       "269717  CCCSTTTCCCGGGGTTCCEEEECSCGGGHHHHHTTSEEEEEEEEET...   \n",
       "139149  CHHHHHHHHHHHHHHHHHHHHHHHHHHHTCSSEEEEEECTTCCEEE...   \n",
       "375271  CEEEECCCCSTTCCCCSCCHHHHHHHHHTTCEEEEETTTTGGGTCC...   \n",
       "62374   CCCCCCHHHHHHHHHHHHHHHTHHHHHHHHHHHTCCTTSCHHHHHH...   \n",
       "187676  CCCEEEEEESCSSEEEEEEEEEESCCCCCCSEEEEEECCCCCCCCC...   \n",
       "\n",
       "                                                     sst3  len_x  \\\n",
       "258049  CCCCCCCCCCCCCCCEEECCEEEEEEECCEEEEEEECCCCCCCCCE...    242   \n",
       "415022  CCCCCCCCCCCCCCCCCCCEEEEECCCCCCCCCCCEEEEEEEEEEE...    454   \n",
       "16266                          CCCHHHCCHHHHHHHHHHCCCCCCCC     26   \n",
       "269717  CCCCCCCCCCHHHHCCCCEEEECCCHHHHHHHHCCCEEEEEEEEEC...    252   \n",
       "139149  CHHHHHHHHHHHHHHHHHHHHHHHHHHHCCCCEEEEEECCCCCEEE...    148   \n",
       "375271  CEEEECCCCCCCCCCCCCCHHHHHHHHHCCCEEEEECCCCHHHCCC...    371   \n",
       "62374   CCCCCCHHHHHHHHHHHHHHHCHHHHHHHHHHHCCCCCCCHHHHHH...     94   \n",
       "187676  CCCEEEEEECCCCEEEEEEEEEECCCCCCCCEEEEEECCCCCCCCC...    189   \n",
       "\n",
       "        has_nonstd_aa  \n",
       "258049          False  \n",
       "415022          False  \n",
       "16266           False  \n",
       "269717          False  \n",
       "139149          False  \n",
       "375271          False  \n",
       "62374           False  \n",
       "187676          False  "
      ]
     },
     "execution_count": 54,
     "metadata": {},
     "output_type": "execute_result"
    }
   ],
   "source": [
    "df_raw_data.sample(8)"
   ]
  },
  {
   "cell_type": "code",
   "execution_count": 5,
   "id": "0f9250ff-a48c-4c8e-a285-18d71e70fa6e",
   "metadata": {},
   "outputs": [
    {
     "name": "stdout",
     "output_type": "stream",
     "text": [
      "There are 112700 unique sequences and 62 unique chain codes\n",
      "Each sequence has an average of 2.33 chain codes\n"
     ]
    }
   ],
   "source": [
    "# get some basic sense of the sequence and chain code data\n",
    "\n",
    "uniq_seq = df_raw_data['seq'].nunique()\n",
    "uniq_cc  = df_raw_data['chain_code'].nunique()\n",
    "\n",
    "\n",
    "cc_per_seq = df_raw_data.groupby('seq').agg({'chain_code':'nunique'}).reset_index()['chain_code'].mean()\n",
    "\n",
    "print('There are %s unique sequences and %s unique chain codes'  % (uniq_seq,uniq_cc))\n",
    "print('Each sequence has an average of %s chain codes'  % round(cc_per_seq,2))"
   ]
  },
  {
   "cell_type": "markdown",
   "id": "2b62963a-f773-4f55-8f81-144a88079e52",
   "metadata": {},
   "source": [
    "## Seq length"
   ]
  },
  {
   "cell_type": "code",
   "execution_count": 6,
   "id": "5fe798af-5ce1-4ada-9fc9-ca856c1f7b26",
   "metadata": {},
   "outputs": [
    {
     "name": "stdout",
     "output_type": "stream",
     "text": [
      "The smallest sequence length is : 3\n",
      "The maximum sequence length is : 5037\n",
      "The average sequence length is : 268.78\n",
      "The most common sequence length is : 0    231\n",
      "dtype: int64\n"
     ]
    }
   ],
   "source": [
    "min_len  = df_raw_data['len_x'].min()\n",
    "max_len  = df_raw_data['len_x'].max()\n",
    "mean_len = df_raw_data['len_x'].mean()\n",
    "mode_len  = df_raw_data['len_x'].mode()\n",
    "\n",
    "print('The smallest sequence length is : %s' % min_len)\n",
    "print('The maximum sequence length is : %s' % max_len)\n",
    "print('The average sequence length is : %s' % round(mean_len,2))\n",
    "print('The most common sequence length is : %s' % mode_len)"
   ]
  },
  {
   "cell_type": "code",
   "execution_count": 7,
   "id": "7d9667fa-9bbf-4b7f-9790-f4a24739a807",
   "metadata": {},
   "outputs": [
    {
     "data": {
      "image/png": "[encoded data removed]",
      "text/plain": [
       "<Figure size 432x288 with 1 Axes>"
      ]
     },
     "metadata": {
      "needs_background": "light"
     },
     "output_type": "display_data"
    }
   ],
   "source": [
    "plt.figure()\n",
    "sns.distplot(df_raw_data['len_x'],hist = False)\n",
    "plt.title('Sequence Length Distribution')\n",
    "plt.show()  "
   ]
  },
  {
   "cell_type": "markdown",
   "id": "4153dd96-3df6-47e6-9d2a-7a236a78471f",
   "metadata": {},
   "source": [
    "##### Standard vs non standard amino acid breakout"
   ]
  },
  {
   "cell_type": "code",
   "execution_count": 8,
   "id": "1ca79cd5-a9d7-4cc2-958c-95c1c1014f32",
   "metadata": {},
   "outputs": [
    {
     "data": {
      "text/html": [
       "<div>\n",
       "<style scoped>\n",
       "    .dataframe tbody tr th:only-of-type {\n",
       "        vertical-align: middle;\n",
       "    }\n",
       "\n",
       "    .dataframe tbody tr th {\n",
       "        vertical-align: top;\n",
       "    }\n",
       "\n",
       "    .dataframe thead th {\n",
       "        text-align: right;\n",
       "    }\n",
       "</style>\n",
       "<table border=\"1\" class=\"dataframe\">\n",
       "  <thead>\n",
       "    <tr style=\"text-align: right;\">\n",
       "      <th></th>\n",
       "      <th>has_nonstd_aa</th>\n",
       "      <th>seq</th>\n",
       "    </tr>\n",
       "  </thead>\n",
       "  <tbody>\n",
       "    <tr>\n",
       "      <th>0</th>\n",
       "      <td>False</td>\n",
       "      <td>109786</td>\n",
       "    </tr>\n",
       "    <tr>\n",
       "      <th>1</th>\n",
       "      <td>True</td>\n",
       "      <td>2914</td>\n",
       "    </tr>\n",
       "  </tbody>\n",
       "</table>\n",
       "</div>"
      ],
      "text/plain": [
       "   has_nonstd_aa     seq\n",
       "0          False  109786\n",
       "1           True    2914"
      ]
     },
     "execution_count": 8,
     "metadata": {},
     "output_type": "execute_result"
    }
   ],
   "source": [
    "df_raw_data.groupby('has_nonstd_aa').agg({'seq':'nunique'}).reset_index()"
   ]
  },
  {
   "cell_type": "code",
   "execution_count": 9,
   "id": "b3ef37d4-4dbc-4477-a2fd-cf65f72035a4",
   "metadata": {},
   "outputs": [],
   "source": [
    "# non aa sequences make up only ~2% of total sequence data"
   ]
  },
  {
   "cell_type": "code",
   "execution_count": 10,
   "id": "788bdad4-f552-4bf0-9b84-7b0c6a2f01ca",
   "metadata": {},
   "outputs": [
    {
     "data": {
      "image/png": "[encoded data removed]",
      "text/plain": [
       "<Figure size 432x288 with 1 Axes>"
      ]
     },
     "metadata": {
      "needs_background": "light"
     },
     "output_type": "display_data"
    }
   ],
   "source": [
    "# checking the distribution of sequence length by aa breakout\n",
    "non_stand_true  =  df_raw_data[df_raw_data['has_nonstd_aa'] == True]\n",
    "non_stand_false =  df_raw_data[df_raw_data['has_nonstd_aa'] == False]\n",
    "                               \n",
    "plt.figure()\n",
    "\n",
    "sns.distplot(non_stand_true['len_x'], hist = False, color = 'red', label = 'non_standard_aa')\n",
    "sns.distplot(non_stand_false['len_x'], hist = False, label = 'standard_aa')\n",
    "\n",
    "plt.title('Sequence Length by Standard AA')\n",
    "plt.legend()\n",
    "plt.show()                         "
   ]
  },
  {
   "cell_type": "markdown",
   "id": "a075113f-45a8-4cae-b140-8bea93948574",
   "metadata": {},
   "source": [
    "## AA sequence and structure profile"
   ]
  },
  {
   "cell_type": "code",
   "execution_count": 47,
   "id": "65a0b423-c571-4e43-9515-4028e5c41417",
   "metadata": {},
   "outputs": [],
   "source": [
    "# get the count of each AA within the entire sequence list\n",
    "\n",
    "from collections import Counter\n",
    "\n",
    "def chart_dist(df,param, col_name):\n",
    "    cnt = Counter()\n",
    "    seq_list = df[param].unique().tolist()\n",
    "\n",
    "\n",
    "    for seq in seq_list:\n",
    "          for aa in set(seq):\n",
    "              cnt[aa]+=1\n",
    "        \n",
    "    df_count = pd.DataFrame(cnt.items(), columns=[col_name, 'count']).sort_values(by='count')\n",
    "    \n",
    "    sns.barplot(x=col_name,\n",
    "                y='count',\n",
    "                data=df_count, \n",
    "                color='steelblue')"
   ]
  },
  {
   "cell_type": "code",
   "execution_count": 48,
   "id": "4b9170f6-88cb-440d-b87a-c38f93d482c6",
   "metadata": {},
   "outputs": [
    {
     "data": {
      "image/png": "[encoded data removed]",
      "text/plain": [
       "<Figure size 432x288 with 1 Axes>"
      ]
     },
     "metadata": {
      "needs_background": "light"
     },
     "output_type": "display_data"
    }
   ],
   "source": [
    "# chart the distribution of amino acids within all sequences\n",
    "chart_dist(non_stand_false, 'seq', 'AA')"
   ]
  },
  {
   "cell_type": "code",
   "execution_count": 50,
   "id": "8df3cb83-501b-42f2-a2a7-1fb445d33686",
   "metadata": {},
   "outputs": [
    {
     "data": {
      "image/png": "[encoded data removed]",
      "text/plain": [
       "<Figure size 432x288 with 1 Axes>"
      ]
     },
     "metadata": {
      "needs_background": "light"
     },
     "output_type": "display_data"
    }
   ],
   "source": [
    "# chart the distribution of protein structure (sst3)\n",
    "chart_dist(non_stand_false, 'sst3', 'sst3 distribution')"
   ]
  },
  {
   "cell_type": "code",
   "execution_count": 51,
   "id": "1e45938b-2c4e-42f7-87b9-9864c67dffbc",
   "metadata": {},
   "outputs": [
    {
     "data": {
      "image/png": "[encoded data removed]",
      "text/plain": [
       "<Figure size 432x288 with 1 Axes>"
      ]
     },
     "metadata": {
      "needs_background": "light"
     },
     "output_type": "display_data"
    }
   ],
   "source": [
    "# chart the distribution of protein structure (sst3)\n",
    "chart_dist(non_stand_false, 'sst8', 'sst8 distribution')"
   ]
  },
  {
   "cell_type": "code",
   "execution_count": null,
   "id": "e16e4587-a676-4199-a403-510b9ca72d69",
   "metadata": {},
   "outputs": [],
   "source": []
  }
 ],
 "metadata": {
  "environment": {
   "kernel": "python3",
   "name": "common-cpu.m87",
   "type": "gcloud",
   "uri": "gcr.io/deeplearning-platform-release/base-cpu:m87"
  },
  "kernelspec": {
   "display_name": "Python 3",
   "language": "python",
   "name": "python3"
  },
  "language_info": {
   "codemirror_mode": {
    "name": "ipython",
    "version": 3
   },
   "file_extension": ".py",
   "mimetype": "text/x-python",
   "name": "python",
   "nbconvert_exporter": "python",
   "pygments_lexer": "ipython3",
   "version": "3.7.12"
  }
 },
 "nbformat": 4,
 "nbformat_minor": 5
}
